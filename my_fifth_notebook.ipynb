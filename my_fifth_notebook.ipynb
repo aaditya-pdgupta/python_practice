{
 "cells": [
  {
   "cell_type": "code",
   "execution_count": 28,
   "id": "fa7c6d41",
   "metadata": {},
   "outputs": [],
   "source": [
    "import numpy as np\n",
    "from scipy.integrate import odeint\n",
    "import matplotlib.pyplot as plt"
   ]
  },
  {
   "cell_type": "code",
   "execution_count": 44,
   "id": "e2768932",
   "metadata": {},
   "outputs": [
    {
     "ename": "SyntaxError",
     "evalue": "invalid syntax (2429388502.py, line 8)",
     "output_type": "error",
     "traceback": [
      "\u001b[0;36m  Input \u001b[0;32mIn [44]\u001b[0;36m\u001b[0m\n\u001b[0;31m    plt.plot(t,y color = \"black\")\u001b[0m\n\u001b[0m                 ^\u001b[0m\n\u001b[0;31mSyntaxError\u001b[0m\u001b[0;31m:\u001b[0m invalid syntax\n"
     ]
    }
   ],
   "source": [
    "def module(y,t):\n",
    "    k = 0.1\n",
    "    dydt = - k*t\n",
    "    return dydt\n",
    "y0 = 5\n",
    "t = np.linspace(0,20)\n",
    "y = odeint(module,y0,t)\n",
    "plt.plot(t,y color = \"black\")\n",
    "plt.xlabel(\"time\")\n",
    "plt.ylabel(\"y(t)\")\n",
    "plt.show\n"
   ]
  },
  {
   "cell_type": "code",
   "execution_count": 22,
   "id": "d2e03a33",
   "metadata": {},
   "outputs": [],
   "source": [
    "x_low = 0                  \n",
    "x_high = 20               \n",
    "y0 = 5"
   ]
  },
  {
   "cell_type": "code",
   "execution_count": 21,
   "id": "c5ed343a",
   "metadata": {},
   "outputs": [
    {
     "ename": "NameError",
     "evalue": "name 'x_low' is not defined",
     "output_type": "error",
     "traceback": [
      "\u001b[0;31m---------------------------------------------------------------------------\u001b[0m",
      "\u001b[0;31mNameError\u001b[0m                                 Traceback (most recent call last)",
      "Input \u001b[0;32mIn [21]\u001b[0m, in \u001b[0;36m<cell line: 1>\u001b[0;34m()\u001b[0m\n\u001b[0;32m----> 1\u001b[0m t \u001b[38;5;241m=\u001b[39m np\u001b[38;5;241m.\u001b[39mlinspace(\u001b[43mx_low\u001b[49m,x_high)\n\u001b[1;32m      2\u001b[0m y \u001b[38;5;241m=\u001b[39m odient(model,y0,t)\n",
      "\u001b[0;31mNameError\u001b[0m: name 'x_low' is not defined"
     ]
    }
   ],
   "source": [
    "t = np.linspace(x_low,x_high)\n",
    "y = odient(model,y0,t)"
   ]
  },
  {
   "cell_type": "code",
   "execution_count": 18,
   "id": "4efa65d3",
   "metadata": {},
   "outputs": [
    {
     "ename": "NameError",
     "evalue": "name 'y' is not defined",
     "output_type": "error",
     "traceback": [
      "\u001b[0;31m---------------------------------------------------------------------------\u001b[0m",
      "\u001b[0;31mNameError\u001b[0m                                 Traceback (most recent call last)",
      "Input \u001b[0;32mIn [18]\u001b[0m, in \u001b[0;36m<cell line: 1>\u001b[0;34m()\u001b[0m\n\u001b[0;32m----> 1\u001b[0m plt\u001b[38;5;241m.\u001b[39mplot(t,\u001b[43my\u001b[49m)\n\u001b[1;32m      2\u001b[0m plt\u001b[38;5;241m.\u001b[39mxlabel(\u001b[38;5;124m\"\u001b[39m\u001b[38;5;124mtime\u001b[39m\u001b[38;5;124m\"\u001b[39m)\n\u001b[1;32m      3\u001b[0m plt\u001b[38;5;241m.\u001b[39mylabel(\u001b[38;5;124m'\u001b[39m\u001b[38;5;124my(t)\u001b[39m\u001b[38;5;124m'\u001b[39m)\n",
      "\u001b[0;31mNameError\u001b[0m: name 'y' is not defined"
     ]
    }
   ],
   "source": [
    "plt.plot(t,y)\n",
    "plt.xlabel(\"time\")\n",
    "plt.ylabel('y(t)')\n",
    "plt.show()"
   ]
  },
  {
   "cell_type": "code",
   "execution_count": 47,
   "id": "65c91dc0",
   "metadata": {},
   "outputs": [
    {
     "data": {
      "text/plain": [
       "<function matplotlib.pyplot.show(close=None, block=None)>"
      ]
     },
     "execution_count": 47,
     "metadata": {},
     "output_type": "execute_result"
    },
    {
     "data": {
      "image/png": "[encoded data removed]",
      "text/plain": [
       "<Figure size 432x288 with 1 Axes>"
      ]
     },
     "metadata": {
      "needs_background": "light"
     },
     "output_type": "display_data"
    }
   ],
   "source": [
    "import numpy as np\n",
    "from scipy.integrate import odeint \n",
    "import matplotlib.pyplot as plt\n",
    "def module(y,t):\n",
    "    k = 0.3\n",
    "    dydt = - k*y\n",
    "    return dydt\n",
    "y0 = 10\n",
    "t = np.linspace(0,20)\n",
    "y = odeint(module,y0,t)\n",
    "plt.plot(t,y, color= \"pink\")\n",
    "plt.xlabel(\"time\")\n",
    "plt.ylabel(\"y(t)\")\n",
    "plt.show\n",
    "\n"
   ]
  },
  {
   "cell_type": "code",
   "execution_count": 43,
   "id": "d981c463",
   "metadata": {},
   "outputs": [
    {
     "data": {
      "text/plain": [
       "<function matplotlib.pyplot.show(close=None, block=None)>"
      ]
     },
     "execution_count": 43,
     "metadata": {},
     "output_type": "execute_result"
    },
    {
     "data": {
      "image/png": "[encoded data removed]",
      "text/plain": [
       "<Figure size 432x288 with 1 Axes>"
      ]
     },
     "metadata": {
      "needs_background": "light"
     },
     "output_type": "display_data"
    }
   ],
   "source": [
    "import numpy as np\n",
    "from scipy.integrate import odeint\n",
    "import matplotlib.pyplot as plt\n",
    "def module(y,t):\n",
    "    dydt = - y + 1.0\n",
    "    return dydt\n",
    "y0 = 0\n",
    "t = np.linspace(0,5)\n",
    "y = odeint(module,y0,t)\n",
    "plt.plot(t,y , color= \"red\")\n",
    "plt.xlabel(\"time\")\n",
    "plt.ylabel(\"y(t)\")\n",
    "plt.show\n",
    "\n"
   ]
  },
  {
   "cell_type": "code",
   "execution_count": 39,
   "id": "7184e4d9",
   "metadata": {},
   "outputs": [
    {
     "data": {
      "text/plain": [
       "<function matplotlib.pyplot.show(close=None, block=None)>"
      ]
     },
     "execution_count": 39,
     "metadata": {},
     "output_type": "execute_result"
    },
    {
     "data": {
      "image/png": "[encoded data removed]",
      "text/plain": [
       "<Figure size 432x288 with 1 Axes>"
      ]
     },
     "metadata": {
      "needs_background": "light"
     },
     "output_type": "display_data"
    }
   ],
   "source": [
    "import numpy as np\n",
    "from scipy.integrate import odeint\n",
    "import matplotlib.pyplot as plt\n",
    "def module(y,t):\n",
    "    dydt = y + 2.0\n",
    "    return dydt\n",
    "y0 = 0\n",
    "t = np.linspace(0,20)\n",
    "y = odeint(module,y0,t)\n",
    "plt.plot(t,y)\n",
    "plt.xlabel(\"time\")\n",
    "plt.ylabel(\"y(t)\")\n",
    "plt.show\n",
    "\n"
   ]
  },
  {
   "cell_type": "code",
   "execution_count": 1,
   "id": "c49dfd28",
   "metadata": {},
   "outputs": [],
   "source": [
    "import numpy as np\n",
    "from scipy.integrate import odeint\n",
    "import matplotlib.pyplot as plt"
   ]
  },
  {
   "cell_type": "code",
   "execution_count": null,
   "id": "7412806e",
   "metadata": {},
   "outputs": [],
   "source": [
    "y0 = [0,0]\n",
    "t = np.linspace(0,200,num=100)\n",
    "k_m = 0.2\n",
    "gamma_m = 0.05\n",
    "k_p = 0.4\n",
    "gamma_p = 0.1\n",
    "params = [k_m, gamma_m,k_p,gamma_p]\n",
    "def sim(variables,t,params):\n",
    "    "
   ]
  }
 ],
 "metadata": {
  "kernelspec": {
   "display_name": "Python 3 (ipykernel)",
   "language": "python",
   "name": "python3"
  },
  "language_info": {
   "codemirror_mode": {
    "name": "ipython",
    "version": 3
   },
   "file_extension": ".py",
   "mimetype": "text/x-python",
   "name": "python",
   "nbconvert_exporter": "python",
   "pygments_lexer": "ipython3",
   "version": "3.9.12"
  }
 },
 "nbformat": 4,
 "nbformat_minor": 5
}
