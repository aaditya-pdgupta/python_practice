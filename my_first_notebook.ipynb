{
 "cells": [
  {
   "cell_type": "markdown",
   "id": "3446d395",
   "metadata": {},
   "source": [
    "%%bash\n",
    "\n",
    "pwd"
   ]
  },
  {
   "cell_type": "markdown",
   "id": "f5c6b2f2",
   "metadata": {},
   "source": [
    "## Table of contents\n",
    "\n",
    "* [General info](#general-info)\n",
    "* [Technologies](#technologies)\n",
    "* [Setup](#setup)\n",
    "\n",
    "\n",
    "## General info\n",
    "This project is simple Lorem ipsum dolor generator.\n",
    "\n",
    "\n",
    "## Technologies\n",
    "Project is created with:\n",
    "* Lorem version: 12.3\n",
    "* Ipsum version: 2.33\n",
    "* Ament library version: 999\n",
    "\n",
    "\n",
    "## Setup\n",
    "To run this project, install it locally using:\n",
    "\n",
    "```\n",
    "\n",
    "$ cd ../lorem\n",
    "$ npm install\n",
    "$ npm start\n",
    "```\n"
   ]
  },
  {
   "cell_type": "markdown",
   "id": "3109c298",
   "metadata": {},
   "source": [
    "[README](https://github.com/aaditya-pdgupta/practice/edit/main/README.md)"
   ]
  },
  {
   "cell_type": "markdown",
   "id": "6a5d09df",
   "metadata": {},
   "source": [
    "$$ h^{2} = p^{2} + b^{2} $$"
   ]
  },
  {
   "cell_type": "markdown",
   "id": "f2c6ccd0",
   "metadata": {},
   "source": [
    "![Cat](python_project/milk_sample.jpg)"
   ]
  },
  {
   "cell_type": "markdown",
   "id": "72697460",
   "metadata": {},
   "source": []
  },
  {
   "cell_type": "markdown",
   "id": "7a8e99fd",
   "metadata": {},
   "source": [
    "![Cat](python_project/milk_sample.jpg)"
   ]
  },
  {
   "cell_type": "markdown",
   "id": "f0bf906e",
   "metadata": {},
   "source": [
    "![Cat](python_project/milk_sample.jpg)"
   ]
  },
  {
   "cell_type": "markdown",
   "id": "cfd9ae0a",
   "metadata": {},
   "source": [
    "![Cat](python_project/milk_sample.jpg)"
   ]
  },
  {
   "cell_type": "markdown",
   "id": "4152e4e8",
   "metadata": {},
   "source": [
    "![Cat](python_project/bargraph.jpg)"
   ]
  },
  {
   "cell_type": "markdown",
   "id": "67fce7b5",
   "metadata": {},
   "source": [
    "![Cat](python_practice/bargraph.jpg)"
   ]
  },
  {
   "cell_type": "markdown",
   "id": "59c85591",
   "metadata": {},
   "source": [
    "![Cat](\"python_practice/bargraph.jpg\")"
   ]
  },
  {
   "cell_type": "markdown",
   "id": "a69df5c8",
   "metadata": {},
   "source": [
    "![cat](bargraph.jpg)"
   ]
  },
  {
   "cell_type": "markdown",
   "id": "5258a58f",
   "metadata": {},
   "source": [
    "![cat](milk_sample.jpg)"
   ]
  },
  {
   "cell_type": "code",
   "execution_count": 5,
   "id": "4ac95e91",
   "metadata": {},
   "outputs": [
    {
     "ename": "SyntaxError",
     "evalue": "invalid syntax (4000379542.py, line 1)",
     "output_type": "error",
     "traceback": [
      "\u001b[0;36m  Input \u001b[0;32mIn [5]\u001b[0;36m\u001b[0m\n\u001b[0;31m    | Syntax      | Description   |\u001b[0m\n\u001b[0m    ^\u001b[0m\n\u001b[0;31mSyntaxError\u001b[0m\u001b[0;31m:\u001b[0m invalid syntax\n"
     ]
    }
   ],
   "source": [
    "| Syntax      | Description   |\n",
    "| ----------- | ------------- |\n",
    "| Header      | Title         |\n",
    "| Paragrapgh  | text          |"
   ]
  },
  {
   "cell_type": "markdown",
   "id": "60c7de08",
   "metadata": {},
   "source": [
    "| Hello |"
   ]
  },
  {
   "cell_type": "markdown",
   "id": "7331b58d",
   "metadata": {},
   "source": [
    "| Syntax     | Description |\n",
    "| ---------- | ----------- |\n",
    "| Header     | Title       |\n",
    " Paragraph   | text        |"
   ]
  },
  {
   "cell_type": "markdown",
   "id": "3b15c92d",
   "metadata": {},
   "source": [
    "![title](bargraph.jpg)"
   ]
  },
  {
   "cell_type": "markdown",
   "id": "29827039",
   "metadata": {},
   "source": [
    "m"
   ]
  },
  {
   "cell_type": "code",
   "execution_count": 2,
   "id": "c4f2b157",
   "metadata": {},
   "outputs": [
    {
     "ename": "NameError",
     "evalue": "name 'M' is not defined",
     "output_type": "error",
     "traceback": [
      "\u001b[0;31m---------------------------------------------------------------------------\u001b[0m",
      "\u001b[0;31mNameError\u001b[0m                                 Traceback (most recent call last)",
      "Input \u001b[0;32mIn [2]\u001b[0m, in \u001b[0;36m<cell line: 1>\u001b[0;34m()\u001b[0m\n\u001b[0;32m----> 1\u001b[0m \u001b[43mM\u001b[49m\n",
      "\u001b[0;31mNameError\u001b[0m: name 'M' is not defined"
     ]
    }
   ],
   "source": [
    "M"
   ]
  },
  {
   "cell_type": "code",
   "execution_count": null,
   "id": "2e0f6efe",
   "metadata": {},
   "outputs": [],
   "source": [
    "M"
   ]
  }
 ],
 "metadata": {
  "kernelspec": {
   "display_name": "Python 3 (ipykernel)",
   "language": "python",
   "name": "python3"
  },
  "language_info": {
   "codemirror_mode": {
    "name": "ipython",
    "version": 3
   },
   "file_extension": ".py",
   "mimetype": "text/x-python",
   "name": "python",
   "nbconvert_exporter": "python",
   "pygments_lexer": "ipython3",
   "version": "3.9.12"
  }
 },
 "nbformat": 4,
 "nbformat_minor": 5
}
