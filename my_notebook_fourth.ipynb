{
 "cells": [
  {
   "cell_type": "code",
   "execution_count": 2,
   "id": "980d3d10",
   "metadata": {},
   "outputs": [],
   "source": [
    "def add(a,b):\n",
    "    sum = a + b\n",
    "    return sum"
   ]
  },
  {
   "cell_type": "code",
   "execution_count": 3,
   "id": "a3959fcd",
   "metadata": {},
   "outputs": [
    {
     "name": "stdout",
     "output_type": "stream",
     "text": [
      "enter first number43\n",
      "enter second number44\n",
      "Result = 87\n"
     ]
    }
   ],
   "source": [
    "a = int (input(\"enter first number\"))\n",
    "b = int (input(\"enter second number\"))\n",
    "res = add(a,b)\n",
    "print (\"Result =\",res)"
   ]
  },
  {
   "cell_type": "code",
   "execution_count": 6,
   "id": "2b2738fb",
   "metadata": {},
   "outputs": [],
   "source": [
    "def sub(a,b):\n",
    "    sub = a - b\n",
    "    return sub"
   ]
  },
  {
   "cell_type": "code",
   "execution_count": 8,
   "id": "66892ded",
   "metadata": {},
   "outputs": [
    {
     "name": "stdout",
     "output_type": "stream",
     "text": [
      "enter first number99\n",
      "enter second number98\n",
      "Result = 1\n"
     ]
    }
   ],
   "source": [
    "a = int (input(\"enter first number\"))\n",
    "b = int (input(\"enter second number\"))\n",
    "res = sub(a,b)\n",
    "print (\"Result =\",res)"
   ]
  },
  {
   "cell_type": "code",
   "execution_count": 14,
   "id": "7dfc4cde",
   "metadata": {},
   "outputs": [],
   "source": [
    "def add(n1,n2):\n",
    "    res = n1 + n2\n",
    "    print(\"the sum is\",res)"
   ]
  },
  {
   "cell_type": "code",
   "execution_count": 15,
   "id": "39f81b99",
   "metadata": {},
   "outputs": [
    {
     "name": "stdout",
     "output_type": "stream",
     "text": [
      "the sum is 11.21\n"
     ]
    }
   ],
   "source": [
    "number1 = 5.66\n",
    "number2 = 5.55\n",
    "add(number1,number2)"
   ]
  },
  {
   "cell_type": "code",
   "execution_count": 2,
   "id": "23f1df39",
   "metadata": {},
   "outputs": [],
   "source": [
    "\n",
    "            "
   ]
  },
  {
   "cell_type": "raw",
   "id": "28a4c47f",
   "metadata": {},
   "source": [
    "detail()"
   ]
  },
  {
   "cell_type": "code",
   "execution_count": null,
   "id": "d0f020c7",
   "metadata": {},
   "outputs": [],
   "source": []
  }
 ],
 "metadata": {
  "kernelspec": {
   "display_name": "Python 3 (ipykernel)",
   "language": "python",
   "name": "python3"
  },
  "language_info": {
   "codemirror_mode": {
    "name": "ipython",
    "version": 3
   },
   "file_extension": ".py",
   "mimetype": "text/x-python",
   "name": "python",
   "nbconvert_exporter": "python",
   "pygments_lexer": "ipython3",
   "version": "3.9.12"
  }
 },
 "nbformat": 4,
 "nbformat_minor": 5
}
